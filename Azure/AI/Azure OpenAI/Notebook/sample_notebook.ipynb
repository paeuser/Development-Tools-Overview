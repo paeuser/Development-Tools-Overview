{
 "cells": [
  {
   "cell_type": "code",
   "execution_count": null,
   "id": "1dbcbbde",
   "metadata": {},
   "outputs": [],
   "source": [
    "import nbformat\n",
    "from nbformat.v4 import new_notebook, new_markdown_cell, new_code_cell"
   ]
  },
  {
   "cell_type": "markdown",
   "id": "376432e2",
   "metadata": {},
   "source": [
    "# Import Required Libraries\n",
    "We will use the `nbformat` library to create and manipulate Jupyter notebook files programmatically."
   ]
  },
  {
   "cell_type": "code",
   "execution_count": null,
   "id": "4aac82a3",
   "metadata": {},
   "outputs": [],
   "source": [
    "import nbformat\n",
    "from nbformat.v4 import new_notebook, new_markdown_cell, new_code_cell"
   ]
  },
  {
   "cell_type": "markdown",
   "id": "43757738",
   "metadata": {},
   "source": [
    "## Create a Sample Notebook Structure\n",
    "Let's initialize a new notebook object using `nbformat.v4.new_notebook()`."
   ]
  },
  {
   "cell_type": "code",
   "execution_count": null,
   "id": "21b881aa",
   "metadata": {},
   "outputs": [],
   "source": [
    "nb = new_notebook()"
   ]
  },
  {
   "cell_type": "markdown",
   "id": "3f0f4a83",
   "metadata": {},
   "source": [
    "## Add Markdown and Code Cells\n",
    "Now, let's add a markdown cell with a title and a code cell with a simple Python example."
   ]
  },
  {
   "cell_type": "code",
   "execution_count": null,
   "id": "ac9b3e5b",
   "metadata": {},
   "outputs": [],
   "source": [
    "nb.cells = [\n",
    "    new_markdown_cell(\"# My First Programmatic Notebook\"),\n",
    "    new_code_cell(\"print('Hello from a generated notebook!')\")\n",
    "]"
   ]
  },
  {
   "cell_type": "markdown",
   "id": "620b6f8f",
   "metadata": {},
   "source": [
    "## Save the Notebook File\n",
    "Finally, write the notebook object to a `.ipynb` file using `nbformat.write()`."
   ]
  },
  {
   "cell_type": "code",
   "execution_count": null,
   "id": "9b98f45d",
   "metadata": {},
   "outputs": [],
   "source": [
    "with open('my_generated_notebook.ipynb', 'w', encoding='utf-8') as f:\n",
    "    nbformat.write(nb, f)\n",
    "print('Notebook saved as my_generated_notebook.ipynb')"
   ]
  }
 ],
 "metadata": {
  "language_info": {
   "name": "python"
  }
 },
 "nbformat": 4,
 "nbformat_minor": 5
}
